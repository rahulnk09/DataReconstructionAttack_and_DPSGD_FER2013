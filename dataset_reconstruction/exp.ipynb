{
 "cells": [
  {
   "cell_type": "code",
   "execution_count": 1,
   "metadata": {},
   "outputs": [],
   "source": [
    "import torch\n",
    "import torchvision.datasets\n",
    "import torchvision.transforms\n"
   ]
  },
  {
   "cell_type": "code",
   "execution_count": 48,
   "metadata": {},
   "outputs": [
    {
     "ename": "RuntimeError",
     "evalue": "train.csv not found in /home/da23c014/PrivacyAI/CourseProject/datasets/fer2013 or corrupted. You can download it from https://www.kaggle.com/c/challenges-in-representation-learning-facial-expression-recognition-challenge",
     "output_type": "error",
     "traceback": [
      "\u001b[0;31m---------------------------------------------------------------------------\u001b[0m",
      "\u001b[0;31mRuntimeError\u001b[0m                              Traceback (most recent call last)",
      "Cell \u001b[0;32mIn[48], line 1\u001b[0m\n\u001b[0;32m----> 1\u001b[0m dataset \u001b[38;5;241m=\u001b[39m \u001b[43mtorchvision\u001b[49m\u001b[38;5;241;43m.\u001b[39;49m\u001b[43mdatasets\u001b[49m\u001b[38;5;241;43m.\u001b[39;49m\u001b[43mFER2013\u001b[49m\u001b[43m(\u001b[49m\u001b[38;5;124;43m'\u001b[39;49m\u001b[38;5;124;43m/home/da23c014/PrivacyAI/CourseProject/datasets\u001b[39;49m\u001b[38;5;124;43m'\u001b[39;49m\u001b[43m,\u001b[49m\u001b[43m \u001b[49m\u001b[43msplit\u001b[49m\u001b[38;5;241;43m=\u001b[39;49m\u001b[38;5;124;43m'\u001b[39;49m\u001b[38;5;124;43mtrain\u001b[39;49m\u001b[38;5;124;43m'\u001b[39;49m\u001b[43m,\u001b[49m\u001b[43mtransform\u001b[49m\u001b[38;5;241;43m=\u001b[39;49m\u001b[43mtransform\u001b[49m\u001b[43m)\u001b[49m\n",
      "File \u001b[0;32m~/miniconda3/envs/rec/lib/python3.8/site-packages/torchvision/datasets/fer2013.py:44\u001b[0m, in \u001b[0;36mFER2013.__init__\u001b[0;34m(self, root, split, transform, target_transform)\u001b[0m\n\u001b[1;32m     42\u001b[0m data_file \u001b[38;5;241m=\u001b[39m base_folder \u001b[38;5;241m/\u001b[39m file_name\n\u001b[1;32m     43\u001b[0m \u001b[38;5;28;01mif\u001b[39;00m \u001b[38;5;129;01mnot\u001b[39;00m check_integrity(\u001b[38;5;28mstr\u001b[39m(data_file), md5\u001b[38;5;241m=\u001b[39mmd5):\n\u001b[0;32m---> 44\u001b[0m     \u001b[38;5;28;01mraise\u001b[39;00m \u001b[38;5;167;01mRuntimeError\u001b[39;00m(\n\u001b[1;32m     45\u001b[0m         \u001b[38;5;124mf\u001b[39m\u001b[38;5;124m\"\u001b[39m\u001b[38;5;132;01m{\u001b[39;00mfile_name\u001b[38;5;132;01m}\u001b[39;00m\u001b[38;5;124m not found in \u001b[39m\u001b[38;5;132;01m{\u001b[39;00mbase_folder\u001b[38;5;132;01m}\u001b[39;00m\u001b[38;5;124m or corrupted. \u001b[39m\u001b[38;5;124m\"\u001b[39m\n\u001b[1;32m     46\u001b[0m         \u001b[38;5;124mf\u001b[39m\u001b[38;5;124m\"\u001b[39m\u001b[38;5;124mYou can download it from \u001b[39m\u001b[38;5;124m\"\u001b[39m\n\u001b[1;32m     47\u001b[0m         \u001b[38;5;124mf\u001b[39m\u001b[38;5;124m\"\u001b[39m\u001b[38;5;124mhttps://www.kaggle.com/c/challenges-in-representation-learning-facial-expression-recognition-challenge\u001b[39m\u001b[38;5;124m\"\u001b[39m\n\u001b[1;32m     48\u001b[0m     )\n\u001b[1;32m     50\u001b[0m \u001b[38;5;28;01mwith\u001b[39;00m \u001b[38;5;28mopen\u001b[39m(data_file, \u001b[38;5;124m\"\u001b[39m\u001b[38;5;124mr\u001b[39m\u001b[38;5;124m\"\u001b[39m, newline\u001b[38;5;241m=\u001b[39m\u001b[38;5;124m\"\u001b[39m\u001b[38;5;124m\"\u001b[39m) \u001b[38;5;28;01mas\u001b[39;00m file:\n\u001b[1;32m     51\u001b[0m     \u001b[38;5;28mself\u001b[39m\u001b[38;5;241m.\u001b[39m_samples \u001b[38;5;241m=\u001b[39m [\n\u001b[1;32m     52\u001b[0m         (\n\u001b[1;32m     53\u001b[0m             torch\u001b[38;5;241m.\u001b[39mtensor([\u001b[38;5;28mint\u001b[39m(idx) \u001b[38;5;28;01mfor\u001b[39;00m idx \u001b[38;5;129;01min\u001b[39;00m row[\u001b[38;5;124m\"\u001b[39m\u001b[38;5;124mpixels\u001b[39m\u001b[38;5;124m\"\u001b[39m]\u001b[38;5;241m.\u001b[39msplit()], dtype\u001b[38;5;241m=\u001b[39mtorch\u001b[38;5;241m.\u001b[39muint8)\u001b[38;5;241m.\u001b[39mreshape(\u001b[38;5;241m48\u001b[39m, \u001b[38;5;241m48\u001b[39m),\n\u001b[0;32m   (...)\u001b[0m\n\u001b[1;32m     56\u001b[0m         \u001b[38;5;28;01mfor\u001b[39;00m row \u001b[38;5;129;01min\u001b[39;00m csv\u001b[38;5;241m.\u001b[39mDictReader(file)\n\u001b[1;32m     57\u001b[0m     ]\n",
      "\u001b[0;31mRuntimeError\u001b[0m: train.csv not found in /home/da23c014/PrivacyAI/CourseProject/datasets/fer2013 or corrupted. You can download it from https://www.kaggle.com/c/challenges-in-representation-learning-facial-expression-recognition-challenge"
     ]
    }
   ],
   "source": [
    "dataset = torchvision.datasets.FER2013('/home/da23c014/PrivacyAI/CourseProject/datasets', split='train',transform=transform)"
   ]
  },
  {
   "cell_type": "code",
   "execution_count": 9,
   "metadata": {},
   "outputs": [],
   "source": [
    "transform = torchvision.transforms.ToTensor()\n",
    "dataset = torchvision.datasets.FER2013('/home/da23c014/PrivacyAI/CourseProject/datasets', split='train',transform=transform)"
   ]
  },
  {
   "cell_type": "code",
   "execution_count": 38,
   "metadata": {},
   "outputs": [],
   "source": [
    "k=torch.utils.data.DataLoader(dataset, 100,shuffle=True)"
   ]
  },
  {
   "cell_type": "code",
   "execution_count": 54,
   "metadata": {},
   "outputs": [],
   "source": [
    "def create_labels(y0):\n",
    "    labels_dict = {0: -1, 1: -1, 2: 0, 3: 1, 4: -1, 5: -1, 6: -1, 7: -1, 8: -1, 9: -1}\n",
    "    y0 = torch.stack([torch.tensor(labels_dict[int(cur_y)]) for cur_y in y0])\n",
    "    return y0\n",
    "\n",
    "\n",
    "def get_balanced_data( data_loader, data_amount):\n",
    "    print('BALANCING DATASET...')\n",
    "    # get balanced data\n",
    "    data_amount_per_class = data_amount // 2\n",
    "\n",
    "    labels_counter = {1: 0, 0: 0}\n",
    "    x0, y0 = [], []\n",
    "    got_enough = False\n",
    "    for bx, by in data_loader:\n",
    "        by = create_labels(by)\n",
    "        for i in range(len(bx)):\n",
    "            if int(by[i])==-1:\n",
    "                continue\n",
    "            elif labels_counter[int(by[i])] < data_amount_per_class:\n",
    "                labels_counter[int(by[i])] += 1\n",
    "                x0.append(bx[i])\n",
    "                y0.append(by[i])\n",
    "            if (labels_counter[0] >= data_amount_per_class) and (labels_counter[1] >= data_amount_per_class):\n",
    "                got_enough = True\n",
    "                break\n",
    "        if got_enough:\n",
    "            break\n",
    "    x0, y0 = torch.stack(x0), torch.stack(y0)\n",
    "    return x0, y0"
   ]
  },
  {
   "cell_type": "code",
   "execution_count": 55,
   "metadata": {},
   "outputs": [
    {
     "name": "stdout",
     "output_type": "stream",
     "text": [
      "BALANCING DATASET...\n"
     ]
    }
   ],
   "source": [
    "x0, y0 = get_balanced_data(k, 500)"
   ]
  },
  {
   "cell_type": "code",
   "execution_count": 60,
   "metadata": {},
   "outputs": [
    {
     "data": {
      "image/png": "[encoded data removed]",
      "text/plain": [
       "<Figure size 640x480 with 1 Axes>"
      ]
     },
     "metadata": {},
     "output_type": "display_data"
    }
   ],
   "source": [
    "import matplotlib.pyplot as plt\n",
    "import torch\n",
    "\n",
    "# Assuming x0 is your tensor with shape [500, 1, 48, 48]\n",
    "# Extract the first image\n",
    "\n",
    "image_tensor = x0[(y0==0)][56] # Shape will be [1, 48, 48]\n",
    "\n",
    "# Remove the channel dimension (1), changing shape to [48, 48]\n",
    "image_tensor = image_tensor.squeeze(0)\n",
    "\n",
    "# Convert the tensor to a numpy array\n",
    "image_np = image_tensor.numpy()\n",
    "\n",
    "# Display the image\n",
    "plt.imshow(image_np, cmap='gray')\n",
    "plt.axis('off')  # Turn off axis labels\n",
    "plt.show()\n"
   ]
  },
  {
   "cell_type": "code",
   "execution_count": 46,
   "metadata": {},
   "outputs": [
    {
     "name": "stdout",
     "output_type": "stream",
     "text": [
      "Data has been split into train and test sets with stratification on 'emotion' label.\n"
     ]
    }
   ],
   "source": [
    "import pandas as pd\n",
    "from sklearn.model_selection import train_test_split\n",
    "\n",
    "# Load the dataset\n",
    "data_path = '/home/da23c014/PrivacyAI/CourseProject/datasets/fer2013/train.csv'\n",
    "df = pd.read_csv(data_path)\n",
    "\n",
    "# Stratified split on the 'emotion' column\n",
    "train_df, test_df = train_test_split(df, test_size=0.35, stratify=df['emotion'], random_state=42)\n",
    "\n",
    "# Save the split datasets\n",
    "train_df.to_csv('/home/da23c014/PrivacyAI/CourseProject/datasets/fer2013/train.csv', index=False)\n",
    "test_df.to_csv('/home/da23c014/PrivacyAI/CourseProject/datasets/fer2013/test.csv', index=False)\n",
    "\n",
    "print(\"Data has been split into train and test sets with stratification on 'emotion' label.\")\n"
   ]
  },
  {
   "cell_type": "code",
   "execution_count": 1,
   "metadata": {},
   "outputs": [],
   "source": [
    "import pandas as pd\n",
    "from sklearn.model_selection import train_test_split\n",
    "\n",
    "# Load the dataset\n",
    "data_path = '/home/da23c014/PrivacyAI/CourseProject/datasets/fer2013/train.csv'\n",
    "df = pd.read_csv(data_path)"
   ]
  },
  {
   "cell_type": "code",
   "execution_count": 2,
   "metadata": {},
   "outputs": [
    {
     "data": {
      "text/plain": [
       "emotion\n",
       "3    4690\n",
       "6    3227\n",
       "4    3139\n",
       "2    2663\n",
       "0    2597\n",
       "5    2061\n",
       "1     283\n",
       "Name: count, dtype: int64"
      ]
     },
     "execution_count": 2,
     "metadata": {},
     "output_type": "execute_result"
    }
   ],
   "source": [
    "df.emotion.value_counts()"
   ]
  },
  {
   "cell_type": "code",
   "execution_count": 3,
   "metadata": {},
   "outputs": [],
   "source": [
    "import pandas as pd\n",
    "from sklearn.model_selection import train_test_split\n",
    "\n",
    "# Load the dataset\n",
    "data_path = '/home/da23c014/PrivacyAI/CourseProject/datasets/fer2013/test.csv'\n",
    "df = pd.read_csv(data_path)"
   ]
  },
  {
   "cell_type": "code",
   "execution_count": 4,
   "metadata": {},
   "outputs": [
    {
     "data": {
      "text/plain": [
       "emotion\n",
       "3    2525\n",
       "6    1738\n",
       "4    1691\n",
       "2    1434\n",
       "0    1398\n",
       "5    1110\n",
       "1     153\n",
       "Name: count, dtype: int64"
      ]
     },
     "execution_count": 4,
     "metadata": {},
     "output_type": "execute_result"
    }
   ],
   "source": [
    "df.emotion.value_counts()"
   ]
  },
  {
   "cell_type": "code",
   "execution_count": null,
   "metadata": {},
   "outputs": [],
   "source": []
  }
 ],
 "metadata": {
  "kernelspec": {
   "display_name": "rec",
   "language": "python",
   "name": "rec"
  },
  "language_info": {
   "codemirror_mode": {
    "name": "ipython",
    "version": 3
   },
   "file_extension": ".py",
   "mimetype": "text/x-python",
   "name": "python",
   "nbconvert_exporter": "python",
   "pygments_lexer": "ipython3",
   "version": "3.8.13"
  }
 },
 "nbformat": 4,
 "nbformat_minor": 2
}
