{
 "cells": [
  {
   "cell_type": "code",
   "execution_count": 5,
   "metadata": {},
   "outputs": [
    {
     "name": "stdout",
     "output_type": "stream",
     "text": [
      "Using device: cuda\n"
     ]
    }
   ],
   "source": [
    "# Install necessary packages if not already installed\n",
    "# !pip install torch torchvision opacus wandb\n",
    "\n",
    "import torch\n",
    "import torch.nn as nn\n",
    "import torch.nn.functional as F\n",
    "from torch.utils.data import Dataset, DataLoader, Subset\n",
    "import torchvision.transforms as transforms\n",
    "import pandas as pd\n",
    "import numpy as np\n",
    "import os\n",
    "import random\n",
    "from tqdm import tqdm\n",
    "\n",
    "# Set device (GPU if available)\n",
    "device = torch.device('cuda' if torch.cuda.is_available() else 'cpu')\n",
    "print(f'Using device: {device}')\n",
    "\n",
    "# Set random seeds for reproducibility\n",
    "seed = 42\n",
    "torch.manual_seed(seed)\n",
    "if device.type == 'cuda':\n",
    "    torch.cuda.manual_seed_all(seed)\n",
    "np.random.seed(seed)\n",
    "random.seed(seed)\n"
   ]
  },
  {
   "cell_type": "code",
   "execution_count": 15,
   "metadata": {},
   "outputs": [
    {
     "name": "stdout",
     "output_type": "stream",
     "text": [
      "_NamespacePath(['/home/da23c014/PrivacyAI/CourseProject/dataset_reconstruction/wandb'])\n"
     ]
    }
   ],
   "source": [
    "print(wandb.__path__) "
   ]
  },
  {
   "cell_type": "code",
   "execution_count": 12,
   "metadata": {},
   "outputs": [
    {
     "ename": "AttributeError",
     "evalue": "module 'wandb' has no attribute 'init'",
     "output_type": "error",
     "traceback": [
      "\u001b[0;31m---------------------------------------------------------------------------\u001b[0m",
      "\u001b[0;31mAttributeError\u001b[0m                            Traceback (most recent call last)",
      "Cell \u001b[0;32mIn[12], line 11\u001b[0m\n\u001b[1;32m      5\u001b[0m wandb_run_name \u001b[38;5;241m=\u001b[39m \u001b[38;5;124m'\u001b[39m\u001b[38;5;124mMLP_d-1000-1000-1_Epsilon120\u001b[39m\u001b[38;5;124m'\u001b[39m\n\u001b[1;32m      7\u001b[0m \u001b[38;5;66;03m# Login to wandb (uncomment if necessary)\u001b[39;00m\n\u001b[1;32m      8\u001b[0m \u001b[38;5;66;03m# !wandb login\u001b[39;00m\n\u001b[1;32m      9\u001b[0m \n\u001b[1;32m     10\u001b[0m \u001b[38;5;66;03m# Initialize wandb run\u001b[39;00m\n\u001b[0;32m---> 11\u001b[0m \u001b[43mwandb\u001b[49m\u001b[38;5;241;43m.\u001b[39;49m\u001b[43minit\u001b[49m(project\u001b[38;5;241m=\u001b[39mwandb_project_name)\n",
      "\u001b[0;31mAttributeError\u001b[0m: module 'wandb' has no attribute 'init'"
     ]
    }
   ],
   "source": [
    "# Initialize wandb\n",
    "import wandb\n",
    "\n",
    "wandb_project_name = 'FER2013_DPSGD_Binary_Classification'\n",
    "wandb_run_name = 'MLP_d-1000-1000-1_Epsilon120'\n",
    "\n",
    "# Login to wandb (uncomment if necessary)\n",
    "# !wandb login\n",
    "\n",
    "# Initialize wandb run\n",
    "wandb.init(project=wandb_project_name)\n"
   ]
  },
  {
   "cell_type": "code",
   "execution_count": 3,
   "metadata": {},
   "outputs": [],
   "source": [
    "# Custom Dataset for loading data from CSV files\n",
    "class FER2013Dataset(Dataset):\n",
    "    def __init__(self, csv_file, transform=None):\n",
    "        self.data = pd.read_csv(csv_file)\n",
    "        self.transform = transform if transform is not None else transforms.ToTensor()\n",
    "        \n",
    "        # Filter data to include only labels 3 and 4 (Happy and Fear)\n",
    "        self.data = self.data[self.data['emotion'].isin([3, 4])].reset_index(drop=True)\n",
    "        \n",
    "        # Convert labels to binary labels: 0 (Happy) and 1 (Fear)\n",
    "        self.label_mapping = {3: 0, 4: 1}\n",
    "        self.data['emotion'] = self.data['emotion'].map(self.label_mapping)\n",
    "        \n",
    "    def __len__(self):\n",
    "        return len(self.data)\n",
    "    \n",
    "    def __getitem__(self, idx):\n",
    "        label = int(self.data.iloc[idx]['emotion'])\n",
    "        pixels = np.array(self.data.iloc[idx]['pixels'].split(), dtype=np.float32).reshape(48, 48)\n",
    "        \n",
    "        if self.transform:\n",
    "            pixels = self.transform(pixels)\n",
    "        \n",
    "        return pixels, label\n"
   ]
  },
  {
   "cell_type": "code",
   "execution_count": 4,
   "metadata": {},
   "outputs": [
    {
     "name": "stdout",
     "output_type": "stream",
     "text": [
      "Train dataset size: 7829\n",
      "Test dataset size: 4216\n"
     ]
    }
   ],
   "source": [
    "# Paths to the training and test CSV files\n",
    "train_csv = '/home/da23c014/PrivacyAI/CourseProject/datasets/fer2013/train.csv'  # Replace with the actual path\n",
    "test_csv = '/home/da23c014/PrivacyAI/CourseProject/datasets/fer2013/test.csv'    # Replace with the actual path\n",
    "\n",
    "# Define transformations (if any)\n",
    "transform = transforms.Compose([\n",
    "    transforms.ToTensor(),\n",
    "    # Add any additional transformations if needed\n",
    "])\n",
    "\n",
    "# Create datasets\n",
    "train_dataset = FER2013Dataset(csv_file=train_csv, transform=transform)\n",
    "test_dataset = FER2013Dataset(csv_file=test_csv, transform=transform)\n",
    "\n",
    "# Define batch size\n",
    "batch_size = 4096  # Be cautious with memory usage\n",
    "\n",
    "# Create DataLoaders\n",
    "train_loader = DataLoader(train_dataset, batch_size=batch_size, shuffle=True, num_workers=4)\n",
    "test_loader = DataLoader(test_dataset, batch_size=batch_size, shuffle=False, num_workers=4)\n",
    "\n",
    "print(f'Train dataset size: {len(train_dataset)}')\n",
    "print(f'Test dataset size: {len(test_dataset)}')\n"
   ]
  },
  {
   "cell_type": "code",
   "execution_count": null,
   "metadata": {},
   "outputs": [],
   "source": []
  }
 ],
 "metadata": {
  "kernelspec": {
   "display_name": "new",
   "language": "python",
   "name": "python3"
  },
  "language_info": {
   "codemirror_mode": {
    "name": "ipython",
    "version": 3
   },
   "file_extension": ".py",
   "mimetype": "text/x-python",
   "name": "python",
   "nbconvert_exporter": "python",
   "pygments_lexer": "ipython3",
   "version": "3.9.20"
  }
 },
 "nbformat": 4,
 "nbformat_minor": 2
}
